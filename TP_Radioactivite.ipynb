{
 "cells": [
  {
   "cell_type": "markdown",
   "metadata": {},
   "source": [
    "#    TP Python:   Désintégration Radioactive\n",
    "\n",
    "On s'intéresse à la désintégration radioactive régie par une équation de la forme\n",
    "$$N'(t)+\\lambda N(t)=0$$ la quantité $N_0$ étant donnée."
   ]
  },
  {
   "cell_type": "markdown",
   "metadata": {},
   "source": [
    "### I. Etude générale .\n",
    "\n",
    "1. Vérifier que la fonction $N(t)=N_0e^{-\\lambda t}$ est solution de l'équation."
   ]
  },
  {
   "cell_type": "markdown",
   "metadata": {},
   "source": [
    "2. Déterminer le temps T au bout duquel la moitié de l'élément radioactif a disparu (appelé demi-vie de l'élément radioactif) en fonction de $\\lambda$. (On remarquera que la quantité $N_0$ n'intervient pas dans le résultat.)\n",
    "\n",
    "\n",
    "\n",
    "3. Pour le Césium 137, on sait que T=30,17 ans, quelle est la valeur de $\\lambda$?"
   ]
  },
  {
   "cell_type": "markdown",
   "metadata": {},
   "source": [
    "### II. Cas de l'Uranium 235\n",
    "\n",
    "On sait que $\\lambda=9,8486\\times 10^{-10}$\n",
    "\n",
    "1. Résoudre l'équation différentielle en fonction du nombre $N_0$ de noyaux.\n",
    "\n",
    "\n",
    "2. Que fait le programme Python suivant? (vous pouvez le tester dans la cellule suivante)"
   ]
  },
  {
   "cell_type": "code",
   "execution_count": null,
   "metadata": {},
   "outputs": [],
   "source": [
    "import math as mt\n",
    "def mystere(A,t):\n",
    "    l=9.8486*10**(-10)\n",
    "    return A*mt.exp(-l*t)"
   ]
  },
  {
   "cell_type": "code",
   "execution_count": null,
   "metadata": {},
   "outputs": [],
   "source": [
    "mystere(2000,150)"
   ]
  },
  {
   "cell_type": "markdown",
   "metadata": {},
   "source": [
    "3. Compléter le programme suivant pour évaluer la demi-vie à $10^{-1}$ près d'un élément radiocatif connaissant $\\lambda$."
   ]
  },
  {
   "cell_type": "code",
   "execution_count": null,
   "metadata": {},
   "outputs": [],
   "source": [
    "import math as mt\n",
    "def demi_vie(l):\n",
    "    t=0\n",
    "    A=1\n",
    "    while A>0.5: \n",
    "        t=t+1\n",
    "        A=mt.exp(...)\n",
    "    return t"
   ]
  },
  {
   "cell_type": "code",
   "execution_count": null,
   "metadata": {},
   "outputs": [],
   "source": []
  },
  {
   "cell_type": "code",
   "execution_count": null,
   "metadata": {},
   "outputs": [],
   "source": []
  }
 ],
 "metadata": {
  "kernelspec": {
   "display_name": "Python 3",
   "language": "python",
   "name": "python3"
  },
  "language_info": {
   "codemirror_mode": {
    "name": "ipython",
    "version": 3
   },
   "file_extension": ".py",
   "mimetype": "text/x-python",
   "name": "python",
   "nbconvert_exporter": "python",
   "pygments_lexer": "ipython3",
   "version": "3.7.4"
  }
 },
 "nbformat": 4,
 "nbformat_minor": 2
}
