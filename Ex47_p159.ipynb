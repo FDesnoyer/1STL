{
 "cells": [
  {
   "cell_type": "markdown",
   "metadata": {},
   "source": [
    "# 1STL D'après ex 47 p 159"
   ]
  },
  {
   "cell_type": "markdown",
   "metadata": {},
   "source": [
    "On utilise les deux dés proposés dans l'énoncé de l'exercice et on fait leur somme.\n",
    "\n",
    "1. Quelle est la probabilité d'obtenir 2 avec ces dés? celle d'obtenir 7?"
   ]
  },
  {
   "cell_type": "markdown",
   "metadata": {},
   "source": [
    "Réponses:\n",
    "\n",
    "1. P(2)=1/36 (environ 0,0278) et P(7)=1/6 (environ 0,167)\n"
   ]
  },
  {
   "cell_type": "markdown",
   "metadata": {},
   "source": [
    "2. On décide d'utiliser un programme Python et de compter le nombre de 7 obtenus."
   ]
  },
  {
   "cell_type": "code",
   "execution_count": 1,
   "metadata": {},
   "outputs": [],
   "source": [
    "# Proposition de programme.\n",
    "import random as rnd\n",
    "\n",
    "de1=[1,2,2,3,3,4]\n",
    "de2=[1,3,4,5,6,8]\n",
    "\n",
    "def simulation(n,testons): # testons = valeur du tirage à chercher\n",
    "    ok=0\n",
    "    for i in range(n): # on répète n fois le calcul\n",
    "        tirage1=rnd.choice(de1)\n",
    "        tirage2=rnd.choice(de2)\n",
    "        somme=tirage1+tirage2\n",
    "        if somme==testons:\n",
    "            ok=ok+1\n",
    "    return ok/n"
   ]
  },
  {
   "cell_type": "markdown",
   "metadata": {},
   "source": [
    "Que permettent de faire les lignes 4 et 5 de ce programme?"
   ]
  },
  {
   "cell_type": "code",
   "execution_count": 8,
   "metadata": {},
   "outputs": [
    {
     "name": "stdout",
     "output_type": "stream",
     "text": [
      "0.029\n"
     ]
    }
   ],
   "source": [
    "# Exécution du programme\n",
    "f = simulation(1000,2)\n",
    "print(f)"
   ]
  },
  {
   "cell_type": "markdown",
   "metadata": {},
   "source": [
    "3. Que fait la ligne 2 de l'exécution? (que calcule-t-on?)\n",
    "\n",
    "_Elle calcule la FREQUENCE des \"2\" sur 1000 lancers._\n",
    "\n",
    "4. Interpréter le résultat par-rapport à celui de la question 1.\n",
    "\n",
    "_Ca colle plutôt bien à la théorie._"
   ]
  },
  {
   "cell_type": "markdown",
   "metadata": {},
   "source": [
    "__Questions supplémentaires__\n",
    "5. Modifier l'exécution du programme pour refaire le calcul pour le résultat 7.\n",
    "\n",
    "\n",
    "6. _Question TRES difficile_ Dans la cellule suivante, compléter le programme afin de calculer la moyenne de la somme de ces deux dés."
   ]
  },
  {
   "cell_type": "code",
   "execution_count": 24,
   "metadata": {},
   "outputs": [
    {
     "name": "stdout",
     "output_type": "stream",
     "text": [
      "0.168\n"
     ]
    }
   ],
   "source": [
    "# Question 5:\n",
    "f = simulation(1000,7)\n",
    "print(f)"
   ]
  },
  {
   "cell_type": "code",
   "execution_count": null,
   "metadata": {},
   "outputs": [],
   "source": [
    "# Programme à compléter:\n",
    "import random as rnd\n",
    "\n",
    "de1=[1,2,2,3,3,4]\n",
    "de2=[1,3,4,5,6,8]\n",
    "\n",
    "def moyenne(N):\n",
    "    S=...\n",
    "    for i in range(...):\n",
    "        t1=rnd.choice(de1)\n",
    "        t2=rnd.choice(de2)\n",
    "        S=S+t1+t2\n",
    "    return S/N"
   ]
  },
  {
   "cell_type": "code",
   "execution_count": null,
   "metadata": {},
   "outputs": [],
   "source": [
    "moyenne(1000)"
   ]
  },
  {
   "cell_type": "code",
   "execution_count": null,
   "metadata": {},
   "outputs": [],
   "source": []
  }
 ],
 "metadata": {
  "kernelspec": {
   "display_name": "Python 3",
   "language": "python",
   "name": "python3"
  },
  "language_info": {
   "codemirror_mode": {
    "name": "ipython",
    "version": 3
   },
   "file_extension": ".py",
   "mimetype": "text/x-python",
   "name": "python",
   "nbconvert_exporter": "python",
   "pygments_lexer": "ipython3",
   "version": "3.7.4"
  }
 },
 "nbformat": 4,
 "nbformat_minor": 2
}
