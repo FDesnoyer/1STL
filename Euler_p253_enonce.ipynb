{
 "cells": [
  {
   "cell_type": "markdown",
   "metadata": {},
   "source": [
    "# Méthode d'Euler\n",
    "\n",
    "On souhaite trouver une fonction $f$ définie pour tout réel $x$ et telle que \n",
    "$$\\left\\{\\begin{array}{ccc}\n",
    "f(0)&=&0\\\\\n",
    "f'(x)&=&\\dfrac{1}{x^2+1}\\end{array}\\right.$$\n",
    "\n",
    "On va s'appuyer sur la formule suivante (dite d'approximation affine):\n",
    "$$f(a+h)\\approx f(a)+hf'(a)$$\n",
    "\n",
    "cela signifie que, si on connait l'image de $a$ par $f$ (c'est $f(a)$) et que l'on s'écarte un petit peu de $a$ sur l'axe des abscisses (c'est $a+h$) on peut calculer une très bonne valeur approchée.\n",
    "\n",
    "On pourra remarquer que $a$ est une donnée et que c'est $h$ qui varie, on a donc une formule qui est bien celle d'une fonction affine pour $h$."
   ]
  },
  {
   "cell_type": "code",
   "execution_count": 1,
   "metadata": {},
   "outputs": [],
   "source": [
    "### dans cette cellule on va préparer le terrain,\n",
    "### on pourra venir modifier les valeurs ici pour la suite\n",
    "from matplotlib import pyplot as plt\n",
    "import math as mt\n",
    "a=\n",
    "b=\n",
    "N=\n",
    "h=\n",
    "def fp(x):\n",
    "    return 1/(x**2+1)"
   ]
  },
  {
   "cell_type": "code",
   "execution_count": 2,
   "metadata": {},
   "outputs": [],
   "source": [
    "### On va essayer de créer des abscisses et des ordonnées pour tracer la courbe de f\n",
    "x=0\n",
    "y=0\n",
    "X=[]\n",
    "Y=[]\n",
    "while x<b:\n",
    "                # on ajoute x à la liste X\n",
    "                # on calcule y\n",
    "                # on ajoute y à la liste Y\n",
    "                # on avance de h la valeur de x"
   ]
  },
  {
   "cell_type": "code",
   "execution_count": 3,
   "metadata": {},
   "outputs": [
    {
     "data": {
      "text/plain": [
       "[<matplotlib.lines.Line2D at 0x21ea0c74208>]"
      ]
     },
     "execution_count": 3,
     "metadata": {},
     "output_type": "execute_result"
    },
    {
     "data": {
      "image/png": "[encoded data removed]",
      "text/plain": [
       "<Figure size 432x288 with 1 Axes>"
      ]
     },
     "metadata": {
      "needs_background": "light"
     },
     "output_type": "display_data"
    }
   ],
   "source": [
    "plt.plot(X,Y,'red')"
   ]
  },
  {
   "cell_type": "code",
   "execution_count": null,
   "metadata": {},
   "outputs": [],
   "source": []
  },
  {
   "cell_type": "code",
   "execution_count": null,
   "metadata": {},
   "outputs": [],
   "source": []
  }
 ],
 "metadata": {
  "kernelspec": {
   "display_name": "Python 3",
   "language": "python",
   "name": "python3"
  },
  "language_info": {
   "codemirror_mode": {
    "name": "ipython",
    "version": 3
   },
   "file_extension": ".py",
   "mimetype": "text/x-python",
   "name": "python",
   "nbconvert_exporter": "python",
   "pygments_lexer": "ipython3",
   "version": "3.7.4"
  }
 },
 "nbformat": 4,
 "nbformat_minor": 2
}
