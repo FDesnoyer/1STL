{
 "cells": [
  {
   "cell_type": "markdown",
   "metadata": {},
   "source": [
    "# Pour découvrir un peu de Python (sur Jupyter)"
   ]
  },
  {
   "cell_type": "markdown",
   "metadata": {},
   "source": [
    "La règle du jeu, pour faire \"fonctionner\" une partie de code (programme), il faut appuyer sur les touches \"shit\" et \"entrée\" en même temps. (Comme quoi 2 doigts suffisent pour l'informatique!)"
   ]
  },
  {
   "cell_type": "markdown",
   "metadata": {},
   "source": [
    "**---------------------------------------------------------------------------------------------**\n",
    "### Premier exemple : Des suites\n",
    "**---------------------------------------------------------------------------------------------**"
   ]
  },
  {
   "cell_type": "markdown",
   "metadata": {},
   "source": [
    "On souhaite calculer les termes de la suite (u_n) définie par u_n=n^2+n-2\n",
    "\n",
    "Pour cela on va compléter le programme suivant"
   ]
  },
  {
   "cell_type": "code",
   "execution_count": null,
   "metadata": {},
   "outputs": [],
   "source": [
    "def u(n):\n",
    "    res=...**2+...-2\n",
    "    return res"
   ]
  },
  {
   "cell_type": "code",
   "execution_count": null,
   "metadata": {},
   "outputs": [],
   "source": [
    "## Vous pouvez tester ici votre programme\n"
   ]
  },
  {
   "cell_type": "markdown",
   "metadata": {},
   "source": [
    "On souhaite maintenant calculer les termes de la suite (v_n) définie par v_0=1 et v_(n+1)=3v_n-2\n",
    "\n",
    "Complétez le programme suivant:\n",
    "\n",
    "(indication: essayez d'abord à la main sur n=5 et ensuite passsez à la partie \"informatique\")"
   ]
  },
  {
   "cell_type": "code",
   "execution_count": null,
   "metadata": {},
   "outputs": [],
   "source": [
    "def v(n):\n",
    "    i=0\n",
    "    res=1\n",
    "    while i<...:\n",
    "        i=i+1\n",
    "        res=3*...-2\n",
    "    return res"
   ]
  },
  {
   "cell_type": "code",
   "execution_count": null,
   "metadata": {},
   "outputs": [],
   "source": [
    "## Vous pouvez tester ici votre programme"
   ]
  },
  {
   "cell_type": "markdown",
   "metadata": {},
   "source": [
    "**---------------------------------------------------------------------------------------------**\n",
    "### Deuxième exemple : Dichotomie\n",
    "**---------------------------------------------------------------------------------------------**"
   ]
  },
  {
   "cell_type": "markdown",
   "metadata": {},
   "source": [
    "On veut jouer à faire deviner un nombre à l'ordinateur, on sait que ce nombre est entre 1 et 100. On va proposer un nombre et il nous répondra \"plus grand\" ou \"plus petit\".\n",
    "Quel serait votre première proposition?"
   ]
  },
  {
   "cell_type": "code",
   "execution_count": 3,
   "metadata": {},
   "outputs": [],
   "source": [
    "from TP1_devine import *"
   ]
  },
  {
   "cell_type": "markdown",
   "metadata": {},
   "source": [
    "Il vous suffit de lancer le programme \"joueurA(100)\" pour jouer à deviner un nombre entre 1 et 100 choisi par l'ordinateur. **Attention!** si vous n'êtes pas bons, l'ordinateur risque de se moquer de vous!!!"
   ]
  },
  {
   "cell_type": "code",
   "execution_count": 4,
   "metadata": {},
   "outputs": [
    {
     "name": "stdout",
     "output_type": "stream",
     "text": [
      "Votre proposition?50\n",
      "Plus petit\n",
      "Votre proposition?25\n",
      "Plus grand\n",
      "Votre proposition?37\n",
      "Plus petit\n",
      "Votre proposition?31\n",
      "Plus grand\n",
      "Votre proposition?34\n",
      "Plus petit\n",
      "Votre proposition?33\n",
      "Plus petit\n",
      "Votre proposition?32\n",
      "Vous avez trouvé le nombre 32 en 7 essais\n",
      "Pas top!!!\n"
     ]
    },
    {
     "data": {
      "text/plain": [
       "7"
      ]
     },
     "execution_count": 4,
     "metadata": {},
     "output_type": "execute_result"
    }
   ],
   "source": [
    "joueurA(100)"
   ]
  },
  {
   "cell_type": "markdown",
   "metadata": {},
   "source": [
    "La méthode que vous devez utiliser s'appelle la **dichotomie** qui signifie *couper en deux* en grec."
   ]
  },
  {
   "cell_type": "code",
   "execution_count": null,
   "metadata": {},
   "outputs": [],
   "source": []
  },
  {
   "cell_type": "code",
   "execution_count": null,
   "metadata": {},
   "outputs": [],
   "source": []
  }
 ],
 "metadata": {
  "kernelspec": {
   "display_name": "Python 3",
   "language": "python",
   "name": "python3"
  },
  "language_info": {
   "codemirror_mode": {
    "name": "ipython",
    "version": 3
   },
   "file_extension": ".py",
   "mimetype": "text/x-python",
   "name": "python",
   "nbconvert_exporter": "python",
   "pygments_lexer": "ipython3",
   "version": "3.7.4"
  }
 },
 "nbformat": 4,
 "nbformat_minor": 2
}
